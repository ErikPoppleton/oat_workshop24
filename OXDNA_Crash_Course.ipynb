{
 "cells": [
  {
   "cell_type": "markdown",
   "metadata": {
    "id": "vSbCG6Kg1k-n"
   },
   "source": [
    "# OxDNA Crash course\n",
    "* [general intro to MD simulations](https://www.public.asu.edu/~psulc/myimages/chapter.pdf)\n",
    "* [oxDNA model intro](https://dna.physics.ox.ac.uk/index.php/DNA_model_introduction)\n",
    "* [recent howto](https://ieeexplore.ieee.org/abstract/document/10407580)\n",
    "* [oxView protocols](https://www.nature.com/articles/s41596-022-00688-5)\n",
    "* [oxDNA / analysis tools documentation](https://lorenzo-rovigatti.github.io/oxDNA/oat/index.html#)\n",
    "* [This as a Colab](tinyurl.com/oxdna)"
   ]
  },
  {
   "cell_type": "markdown",
   "metadata": {
    "id": "Xs_d38Ve_DFI"
   },
   "source": [
    "## check we have a working installation\n",
    "* can be also used to imitate CUDA usage if colab complains"
   ]
  },
  {
   "cell_type": "markdown",
   "metadata": {
    "id": "grhWyXCGBE8a"
   },
   "source": [
    "# Setup a simulation\n",
    "* we'll use the following paper for our test case https://pubs.acs.org/doi/10.1021/jacs.8b07180\n",
    "* we'll compare the [75 degree](https://nanobase.org/structure/62) and the [30 degree](https://nanobase.org/structure/60) tiles\n"
   ]
  },
  {
   "cell_type": "code",
   "execution_count": null,
   "metadata": {},
   "outputs": [],
   "source": [
    "import os\n",
    "current_path = os.getcwd()\n",
    "current_path\n"
   ]
  },
  {
   "cell_type": "code",
   "execution_count": null,
   "metadata": {
    "colab": {
     "base_uri": "https://localhost:8080/"
    },
    "id": "glju9yy0BDba",
    "outputId": "367a995b-0283-4fa6-c793-edc13267d607"
   },
   "outputs": [],
   "source": [
    "# get the files\n",
    "%mkdir ./downloads\n",
    "%cd ./downloads\n",
    "!wget https://nanobase.org/file/60/structure/30deg.top\n",
    "!wget https://nanobase.org/file/60/structure/30deg.dat\n",
    "!wget https://nanobase.org/file/62/structure/75deg.top\n",
    "!wget https://nanobase.org/file/62/structure/75deg.dat\n",
    "!wget https://nanobase.org/file/62/structure/traj75_min.dat\n",
    "!wget https://nanobase.org/file/60/structure/traj30_min.dat\n",
    "%cd {current_path}"
   ]
  },
  {
   "cell_type": "markdown",
   "metadata": {
    "id": "u4qt5tZPCaAz"
   },
   "source": [
    "## take a look at the 30 deg structure"
   ]
  },
  {
   "cell_type": "code",
   "execution_count": null,
   "metadata": {
    "id": "TqaPa3uECPoN"
   },
   "outputs": [],
   "source": [
    "%cd {current_path}\n",
    "from oxDNA_analysis_tools.UTILS.oxview import from_path\n",
    "from_path(\n",
    "    \"./downloads/30deg.top\",\n",
    "    \"./downloads/30deg.dat\"\n",
    ")"
   ]
  },
  {
   "cell_type": "markdown",
   "metadata": {
    "id": "0WuePNh_C0_N"
   },
   "source": [
    "## and also view the 75 deg structure"
   ]
  },
  {
   "cell_type": "code",
   "execution_count": null,
   "metadata": {
    "id": "0vZmd0NnC-pc"
   },
   "outputs": [],
   "source": [
    "%cd {current_path}\n",
    "from oxDNA_analysis_tools.UTILS.oxview import from_path\n",
    "from_path(\n",
    "    \"./downloads/75deg.top\",\n",
    "    \"./downloads/75deg.dat\"\n",
    ")"
   ]
  },
  {
   "cell_type": "markdown",
   "metadata": {
    "id": "_pOMVeXbDQyE"
   },
   "source": [
    "## Now let's setup an equilibrium sampling simulation"
   ]
  },
  {
   "cell_type": "code",
   "execution_count": null,
   "metadata": {
    "id": "-hNBuBFRDyMR"
   },
   "outputs": [],
   "source": [
    "# boilerplate\n",
    "from oxDNA_analysis_tools.UTILS.boilerplate import get_default_input, Simulation, setup_simulation\n",
    "from pprint import pprint\n",
    "params = get_default_input()\n",
    "print(\"default sampling\")\n",
    "pprint(params)"
   ]
  },
  {
   "cell_type": "code",
   "execution_count": null,
   "metadata": {
    "id": "A2-fsVvKELg-"
   },
   "outputs": [],
   "source": [
    "# we have a small very sharp system\n",
    "# so for the test we can use less steps and sample more often\n",
    "params[\"steps\"] = \"1e6\"\n",
    "params[\"print_conf_interval\"] = \"1e3\"\n",
    "params[\"max_io\"]=1000"
   ]
  },
  {
   "cell_type": "code",
   "execution_count": null,
   "metadata": {
    "colab": {
     "base_uri": "https://localhost:8080/"
    },
    "id": "_mtRtiQLEc3R",
    "outputId": "b0c872fe-612f-41a8-e649-12b5fb77a418"
   },
   "outputs": [],
   "source": [
    "%cd {current_path}\n",
    "# setup and run the 75 deg simulation\n",
    "s75 = Simulation(\n",
    "    setup_simulation(\n",
    "        \"./downloads/75deg.top\",\n",
    "        \"./downloads/75deg.dat\",\n",
    "        \"./75deg/\",\n",
    "        params,\n",
    "        kill_out_dir=False,\n",
    "    )\n",
    ")\n",
    "#s75.run()"
   ]
  },
  {
   "cell_type": "code",
   "execution_count": null,
   "metadata": {},
   "outputs": [],
   "source": [
    "%cd {current_path}\n",
    "!mv ./downloads/traj75_min.dat ./75deg/trajectory.dat"
   ]
  },
  {
   "cell_type": "code",
   "execution_count": null,
   "metadata": {
    "id": "wslMIhJUEqkj"
   },
   "outputs": [],
   "source": [
    "# * we can check on it in several ways\n",
    "# * plotting the energy shows also simulation progress\n",
    "s75.plot_energy()"
   ]
  },
  {
   "cell_type": "code",
   "execution_count": null,
   "metadata": {
    "colab": {
     "base_uri": "https://localhost:8080/"
    },
    "id": "vXmzeWWTE7b8",
    "outputId": "1ccb3cd0-08ff-4350-c377-81c8340313c4"
   },
   "outputs": [],
   "source": [
    "# setup and run the 75 deg simulation\n",
    "s30 = Simulation(\n",
    "    setup_simulation(\n",
    "        \"./downloads/30deg.top\",\n",
    "        \"./downloads/30deg.dat\",\n",
    "        \"./30deg/\",\n",
    "        params,\n",
    "        kill_out_dir=True,\n",
    "    )\n",
    ")\n",
    "%cd {current_path}\n",
    "!mv ./downloads/traj30_min.dat ./30deg/trajectory.dat\n",
    "#s30.run()"
   ]
  },
  {
   "cell_type": "code",
   "execution_count": null,
   "metadata": {
    "id": "7yBbJexHFQhR"
   },
   "outputs": [],
   "source": [
    "# here let's check the last conf and is alive\n",
    "print(\"simulation running:\",s30.is_alive())\n",
    "s30.view_last()"
   ]
  },
  {
   "cell_type": "code",
   "execution_count": null,
   "metadata": {
    "id": "1IzeOAHLF2IF"
   },
   "outputs": [],
   "source": [
    "# or scroll through the existing configurations\n",
    "s30.view_traj()"
   ]
  },
  {
   "cell_type": "code",
   "execution_count": null,
   "metadata": {
    "id": "LPRfZKndu7v8"
   },
   "outputs": [],
   "source": [
    "s30.plot_energy()"
   ]
  },
  {
   "cell_type": "markdown",
   "metadata": {
    "id": "hh7XjYZQEDzF"
   },
   "source": [
    "# So we produced data, how can we analyze it"
   ]
  },
  {
   "cell_type": "markdown",
   "metadata": {
    "id": "Ga8hg570DN33"
   },
   "source": [
    "## compute and display mean stuctures"
   ]
  },
  {
   "cell_type": "markdown",
   "metadata": {
    "id": "1od3uLbmHNax"
   },
   "source": [
    "### for the 75 deg"
   ]
  },
  {
   "cell_type": "code",
   "execution_count": null,
   "metadata": {
    "id": "t9hcM3wzGiSg"
   },
   "outputs": [],
   "source": [
    "%cd {current_path}\n",
    "%cd ./75deg/\n",
    "!oat mean -p2 -d devs.json -o mean.dat ./trajectory.dat\n",
    "from_path(\"75deg.top\",\n",
    "          \"mean.dat\",\n",
    "          \"devs.json\"\n",
    ")"
   ]
  },
  {
   "cell_type": "code",
   "execution_count": null,
   "metadata": {
    "id": "XCL4HpEQYaQ2"
   },
   "outputs": [],
   "source": []
  },
  {
   "cell_type": "markdown",
   "metadata": {
    "id": "VTHQXjCuHS-g"
   },
   "source": [
    "### for the 30 deg"
   ]
  },
  {
   "cell_type": "code",
   "execution_count": null,
   "metadata": {
    "id": "5DHhHwHXHGH-"
   },
   "outputs": [],
   "source": [
    "%cd {current_path}\n",
    "%cd ./30deg/\n",
    "!oat mean -p2 -d devs.json -o mean.dat ./trajectory.dat\n",
    "from_path(\"30deg.top\",\n",
    "          \"mean.dat\",\n",
    "          \"devs.json\"\n",
    ")"
   ]
  },
  {
   "cell_type": "markdown",
   "metadata": {
    "id": "U6lp_Qq4HlTs"
   },
   "source": [
    "## now let's check the angles\n",
    "* by looking at the junction, we can define the angle\n",
    "thrugh using crossover points as the reference points"
   ]
  },
  {
   "cell_type": "code",
   "execution_count": null,
   "metadata": {
    "id": "4TpCaKlaH5je"
   },
   "outputs": [],
   "source": [
    "%cd {current_path}\n",
    "%cd ./75deg/\n",
    "# using the Rye Reader analyse the 1st junction\n",
    "from oxDNA_analysis_tools.UTILS.RyeReader import get_confs, describe, inbox\n",
    "\n",
    "\n",
    "p11 = [33,351,350,34]\n",
    "p12 = [118,495,496,117]\n",
    "p21 = [180,159,160,179]\n",
    "p22 = [265,264,76,75]\n",
    "\n",
    "def angle_between_vectors(v, w):\n",
    "    # Calculate dot product\n",
    "    dot_product = np.dot(v, w)\n",
    "    # Calculate norms\n",
    "    norm_v = np.linalg.norm(v)\n",
    "    norm_w = np.linalg.norm(w)\n",
    "    # Calculate cosine of the angle\n",
    "    cos_angle = dot_product / (norm_v * norm_w)\n",
    "    # Calculate the angle in radians and then convert it to degrees\n",
    "    angle_rad = np.arccos(cos_angle)\n",
    "    angle_deg = np.degrees(angle_rad)\n",
    "    return angle_deg\n",
    "\n",
    "from tqdm.auto import tqdm\n",
    "import numpy as np\n",
    "\n",
    "ti,di = describe(\"75deg.top\", \"trajectory.dat\")\n",
    "\n",
    "angles75 = []\n",
    "for id in tqdm(range(di.nconfs)):\n",
    "  try:\n",
    "    conf = inbox(\n",
    "      get_confs(ti,di, id, 1)[0]\n",
    "    )\n",
    "    a1 = np.mean(conf.positions[p11],axis = 0)\n",
    "    a2 = np.mean(conf.positions[p12],axis = 0)\n",
    "    b1 = np.mean(conf.positions[p21],axis = 0)\n",
    "    b2 = np.mean(conf.positions[p22],axis = 0)\n",
    "    a = a1 - a2\n",
    "    b = b1 - b2\n",
    "    angles75.append(\n",
    "        angle_between_vectors(a,b)\n",
    "    )\n",
    "  except:\n",
    "    pass\n",
    "\n"
   ]
  },
  {
   "cell_type": "code",
   "execution_count": null,
   "metadata": {
    "id": "2YarER3yI0Yn"
   },
   "outputs": [],
   "source": [
    "%cd {current_path}\n",
    "# do same thing for the 30\n",
    "%cd ./30deg/\n",
    "# using the Rye Reader analyse the 1st junction\n",
    "from oxDNA_analysis_tools.UTILS.RyeReader import get_confs, describe, inbox\n",
    "\n",
    "\n",
    "p22 = [50,659,159,160,658]\n",
    "p21 = [244,111,112,243]\n",
    "p11 = [46,320,321,45]\n",
    "p12 = [347,131,132,346]\n",
    "\n",
    "def angle_between_vectors(v, w):\n",
    "    # Calculate dot product\n",
    "    dot_product = np.dot(v, w)\n",
    "    # Calculate norms\n",
    "    norm_v = np.linalg.norm(v)\n",
    "    norm_w = np.linalg.norm(w)\n",
    "    # Calculate cosine of the angle\n",
    "    cos_angle = dot_product / (norm_v * norm_w)\n",
    "    # Calculate the angle in radians and then convert it to degrees\n",
    "    angle_rad = np.arccos(cos_angle)\n",
    "    angle_deg = np.degrees(angle_rad)\n",
    "    return angle_deg\n",
    "\n",
    "from tqdm.auto import tqdm\n",
    "import numpy as np\n",
    "\n",
    "ti,di = describe(\"30deg.top\", \"trajectory.dat\")\n",
    "\n",
    "angles30 = []\n",
    "for id in tqdm(range(di.nconfs)):\n",
    "  try:\n",
    "    conf = inbox(\n",
    "      get_confs(ti,di, id, 1)[0]\n",
    "    )\n",
    "    a1 = np.mean(conf.positions[p11],axis = 0)\n",
    "    a2 = np.mean(conf.positions[p12],axis = 0)\n",
    "    b1 = np.mean(conf.positions[p21],axis = 0)\n",
    "    b2 = np.mean(conf.positions[p22],axis = 0)\n",
    "    a = a1 - a2\n",
    "    b = b1 - b2\n",
    "    angles30.append(\n",
    "        angle_between_vectors(a,b)\n",
    "    )\n",
    "  except:\n",
    "    pass\n"
   ]
  },
  {
   "cell_type": "markdown",
   "metadata": {
    "id": "l9KnBFDAJiBK"
   },
   "source": [
    "## plot the obtained distributions"
   ]
  },
  {
   "cell_type": "code",
   "execution_count": null,
   "metadata": {
    "id": "CqsMZ-3WJgyt"
   },
   "outputs": [],
   "source": [
    "%cd {current_path}\n",
    "%cd ./30deg/\n",
    "import matplotlib.pyplot as plt\n",
    "import seaborn as sns\n",
    "sns.histplot(\n",
    "    angles30, bins=180, label=\"30\"\n",
    ")\n",
    "plt.legend()\n",
    "plt.savefig(\n",
    "    \"./hist1e6.png\"\n",
    ")\n"
   ]
  },
  {
   "cell_type": "code",
   "execution_count": null,
   "metadata": {
    "id": "BZ-JcB8HKduP"
   },
   "outputs": [],
   "source": [
    "%cd {current_path}\n",
    "%cd ./75deg/\n",
    "import matplotlib.pyplot as plt\n",
    "import seaborn as sns\n",
    "sns.histplot(\n",
    "    angles75, bins=180, label=\"75\"\n",
    ")\n",
    "plt.legend()\n",
    "plt.savefig(\n",
    "    \"./hist1e6.png\"\n",
    ")"
   ]
  },
  {
   "cell_type": "code",
   "execution_count": null,
   "metadata": {
    "id": "6TrfG1X6K3Lx"
   },
   "outputs": [],
   "source": [
    "#combined out\n",
    "import numpy as np\n",
    "sns.kdeplot(\n",
    "    angles75, label=75,fill=True\n",
    ")\n",
    "mean75 = np.mean(angles75)\n",
    "std75  = np.std(angles75)\n",
    "plt.plot(\n",
    "    [mean75, mean75],\n",
    "    [0,.25],\n",
    "    c=\"red\"\n",
    ")\n",
    "mean30 = np.mean(angles30)\n",
    "std30  = np.std(angles30)\n",
    "sns.kdeplot(\n",
    "    angles30, label=30, fill=True\n",
    ")\n",
    "plt.legend()\n",
    "plt.plot(\n",
    "    [mean30, mean30],\n",
    "    [0,.25],\n",
    "    c=\"red\"\n",
    ")\n",
    "print(\"structure\\tmean\\tstd\")\n",
    "print(\n",
    "\n",
    "    f\"75 \\t{mean75}\\t{std75}\"\n",
    ")\n",
    "print(\n",
    "\n",
    "    f\"30 \\t{mean30}\\t{std30}\"\n",
    ")"
   ]
  },
  {
   "cell_type": "markdown",
   "metadata": {
    "id": "_UcWLkn6MwmX"
   },
   "source": [
    "# Convergence and autocorelation\n",
    "* quick decay of acf indicates good sampling"
   ]
  },
  {
   "cell_type": "code",
   "execution_count": null,
   "metadata": {
    "id": "ePydrHLFMvZv"
   },
   "outputs": [],
   "source": [
    "import numpy as np\n",
    "import matplotlib.pyplot as plt\n",
    "\n",
    "\n",
    "def autocorrelation(signal):\n",
    "    n = len(signal)\n",
    "    mean = np.mean(signal)\n",
    "    var = np.var(signal)\n",
    "    r = np.correlate(signal - mean, signal - mean, mode='full')[-n:]\n",
    "    result = r/(var*(np.arange(n, 0, -1)))\n",
    "    return result\n",
    "\n",
    "\n",
    "# Plot autocorrelation\n",
    "plt.figure(figsize=(10, 4))\n",
    "\n",
    "# Compute autocorrelation\n",
    "acf = autocorrelation(angles75)\n",
    "plt.plot(acf,label=\"75\")\n",
    "\n",
    "acf = autocorrelation(angles30)\n",
    "plt.plot(acf,label=\"30\")\n",
    "\n",
    "plt.title('Autocorrelation Function')\n",
    "plt.xlabel('Lag')\n",
    "plt.ylabel('Autocorrelation')\n",
    "plt.legend()\n",
    "plt.show()\n"
   ]
  },
  {
   "cell_type": "markdown",
   "metadata": {
    "id": "-wCO9bAANiP2"
   },
   "source": [
    "## data convergence can be checked by plotting hist of half the data\n",
    "* so for 75"
   ]
  },
  {
   "cell_type": "code",
   "execution_count": null,
   "metadata": {
    "id": "fvS-JGL4Nf5w"
   },
   "outputs": [],
   "source": [
    "sns.kdeplot(\n",
    "    angles75[:int(len(angles75)/2)], label=\"75 1st\",fill=True\n",
    ")\n",
    "sns.kdeplot(\n",
    "    angles75[int(len(angles75)/2):], label=\"75 2nd\",fill=True\n",
    ")\n",
    "plt.legend()\n",
    "plt.show()"
   ]
  },
  {
   "cell_type": "code",
   "execution_count": null,
   "metadata": {
    "id": "k9dkdOAmOMt9"
   },
   "outputs": [],
   "source": [
    "sns.kdeplot(\n",
    "    angles30[:int(len(angles30)/2)], label=\"30 1st\",fill=True\n",
    ")\n",
    "sns.kdeplot(\n",
    "    angles30[int(len(angles30)/2):], label=\"30 2nd\",fill=True\n",
    ")\n",
    "plt.legend()\n",
    "plt.show()"
   ]
  },
  {
   "cell_type": "markdown",
   "metadata": {
    "id": "4rFovBTCBFth"
   },
   "source": [
    "# Last let's have a look at how the junction looks according to the op"
   ]
  },
  {
   "cell_type": "code",
   "execution_count": null,
   "metadata": {
    "id": "2RvcqhewBQ6s"
   },
   "outputs": [],
   "source": [
    "s30.view_traj(op=angles30)"
   ]
  }
 ],
 "metadata": {
  "colab": {
   "provenance": []
  },
  "kernelspec": {
   "display_name": "Python 3 (ipykernel)",
   "language": "python",
   "name": "python3"
  },
  "language_info": {
   "codemirror_mode": {
    "name": "ipython",
    "version": 3
   },
   "file_extension": ".py",
   "mimetype": "text/x-python",
   "name": "python",
   "nbconvert_exporter": "python",
   "pygments_lexer": "ipython3",
   "version": "3.10.12"
  }
 },
 "nbformat": 4,
 "nbformat_minor": 4
}
